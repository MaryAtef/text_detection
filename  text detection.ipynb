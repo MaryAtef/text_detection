{
 "cells": [
  {
   "cell_type": "code",
   "execution_count": 16,
   "metadata": {},
   "outputs": [],
   "source": [
    "import pytesseract\n",
    "import cv2\n",
    "import matplotlib.pyplot as plt"
   ]
  },
  {
   "cell_type": "markdown",
   "metadata": {},
   "source": [
    "# for configuration "
   ]
  },
  {
   "cell_type": "code",
   "execution_count": 17,
   "metadata": {},
   "outputs": [],
   "source": [
    "pytesseract.pytesseract.tesseract_cmd =\"C://Users//pc//anaconda3//tesseract.exe\""
   ]
  },
  {
   "cell_type": "markdown",
   "metadata": {},
   "source": [
    "# for image"
   ]
  },
  {
   "cell_type": "code",
   "execution_count": 18,
   "metadata": {},
   "outputs": [],
   "source": [
    "img=cv2.imread(\"C://Users//pc//Desktop//image.png\")"
   ]
  },
  {
   "cell_type": "code",
   "execution_count": 19,
   "metadata": {},
   "outputs": [
    {
     "data": {
      "text/plain": [
       "<matplotlib.image.AxesImage at 0x19c0d810670>"
      ]
     },
     "execution_count": 19,
     "metadata": {},
     "output_type": "execute_result"
    },
    {
     "data": {
      "image/png": "[encoded data removed]",
      "text/plain": [
       "<Figure size 432x288 with 1 Axes>"
      ]
     },
     "metadata": {
      "needs_background": "light"
     },
     "output_type": "display_data"
    }
   ],
   "source": [
    "plt.imshow(img)"
   ]
  },
  {
   "cell_type": "code",
   "execution_count": 20,
   "metadata": {},
   "outputs": [],
   "source": [
    "img2char= pytesseract.image_to_string(img)"
   ]
  },
  {
   "cell_type": "code",
   "execution_count": 21,
   "metadata": {},
   "outputs": [
    {
     "name": "stdout",
     "output_type": "stream",
     "text": [
      "faculty of artificial intelligence\n",
      "kfs university\n",
      "\n"
     ]
    }
   ],
   "source": [
    "print(img2char)"
   ]
  },
  {
   "cell_type": "code",
   "execution_count": 22,
   "metadata": {},
   "outputs": [],
   "source": [
    "imgbox= pytesseract.image_to_boxes(img)"
   ]
  },
  {
   "cell_type": "code",
   "execution_count": 23,
   "metadata": {},
   "outputs": [
    {
     "data": {
      "text/plain": [
       "str"
      ]
     },
     "execution_count": 23,
     "metadata": {},
     "output_type": "execute_result"
    }
   ],
   "source": [
    "type(imgbox)"
   ]
  },
  {
   "cell_type": "code",
   "execution_count": 24,
   "metadata": {},
   "outputs": [
    {
     "name": "stdout",
     "output_type": "stream",
     "text": [
      "f 247 397 263 427 0\n",
      "a 263 397 282 417 0\n",
      "c 285 397 302 417 0\n",
      "u 297 388 314 427 0\n",
      "l 305 397 325 417 0\n",
      "t 329 397 353 427 0\n",
      "y 354 388 376 417 0\n",
      "o 388 397 400 427 0\n",
      "f 388 397 427 427 0\n",
      "a 438 397 457 417 0\n",
      "r 450 397 467 427 0\n",
      "t 461 397 475 417 0\n",
      "i 476 397 500 427 0\n",
      "f 502 397 518 427 0\n",
      "i 519 397 526 427 0\n",
      "c 529 397 546 417 0\n",
      "i 549 397 556 427 0\n",
      "a 559 397 578 417 0\n",
      "l 582 397 589 427 0\n",
      "i 604 397 611 427 0\n",
      "n 615 397 635 417 0\n",
      "t 638 397 652 423 0\n",
      "e 654 397 674 417 0\n",
      "l 677 397 684 427 0\n",
      "l 688 397 706 427 0\n",
      "i 709 388 731 417 0\n",
      "g 724 388 741 427 0\n",
      "e 734 397 754 417 0\n",
      "n 757 397 777 417 0\n",
      "c 780 397 797 417 0\n",
      "e 799 397 819 417 0\n",
      "k 249 343 265 373 0\n",
      "f 249 343 285 373 0\n",
      "s 285 343 301 363 0\n",
      "u 315 343 335 363 0\n",
      "n 339 343 359 363 0\n",
      "i 363 343 370 373 0\n",
      "v 372 343 394 363 0\n",
      "e 389 334 406 373 0\n",
      "r 395 343 415 363 0\n",
      "s 418 343 449 363 0\n",
      "i 452 343 459 373 0\n",
      "t 462 343 476 369 0\n",
      "y 477 334 499 363 0\n",
      "\n"
     ]
    }
   ],
   "source": [
    "print(imgbox)"
   ]
  },
  {
   "cell_type": "code",
   "execution_count": 25,
   "metadata": {},
   "outputs": [],
   "source": [
    "imgH,imgW,_=img.shape"
   ]
  },
  {
   "cell_type": "code",
   "execution_count": 26,
   "metadata": {},
   "outputs": [
    {
     "data": {
      "text/plain": [
       "(626, 1539, 3)"
      ]
     },
     "execution_count": 26,
     "metadata": {},
     "output_type": "execute_result"
    }
   ],
   "source": [
    "img.shape"
   ]
  },
  {
   "cell_type": "code",
   "execution_count": 27,
   "metadata": {},
   "outputs": [],
   "source": [
    "for boxes in imgbox.splitlines():\n",
    "    boxes =boxes.split()\n",
    "    x,y,w,h=int(boxes[1]),int(boxes[2]),int(boxes[3]),int(boxes[4])\n",
    "    cv2.rectangle(img,(x,imgH-y),(w,imgH-h),(0,255,0),3)"
   ]
  },
  {
   "cell_type": "code",
   "execution_count": 28,
   "metadata": {},
   "outputs": [
    {
     "data": {
      "text/plain": [
       "<matplotlib.image.AxesImage at 0x19c0e117820>"
      ]
     },
     "execution_count": 28,
     "metadata": {},
     "output_type": "execute_result"
    },
    {
     "data": {
      "image/png": "[encoded data removed]",
      "text/plain": [
       "<Figure size 432x288 with 1 Axes>"
      ]
     },
     "metadata": {
      "needs_background": "light"
     },
     "output_type": "display_data"
    }
   ],
   "source": [
    "plt.imshow(img)"
   ]
  },
  {
   "cell_type": "markdown",
   "metadata": {},
   "source": [
    "# for video"
   ]
  },
  {
   "cell_type": "code",
   "execution_count": 29,
   "metadata": {},
   "outputs": [
    {
     "name": "stdout",
     "output_type": "stream",
     "text": [
      "the video is opened...\n"
     ]
    }
   ],
   "source": [
    "import cv2\n",
    "import numpy as np\n",
    "import pytesseract\n",
    "pytesseract.pytesseract.tesseract_cmd =\"C://Users//pc//anaconda3//tesseract.exe\"\n",
    "font_scale= 1.5\n",
    "font = cv2.FONT_HERSHEY_PLAIN\n",
    "cap=cv2.VideoCapture(\"C:\\\\Users\\\\pc\\\\Downloads\\\\IAM.mp4\")\n",
    "if (cap.isOpened()== False):\n",
    "    print(\"Error opening video stream or file\")\n",
    "else:\n",
    "    print(\"the video is opened...\")\n",
    "    while(cap.isOpened()):\n",
    "        ret,frame= cap.read() \n",
    "        if ret==True:\n",
    "            imgH,imgW,_=frame.shape\n",
    "            x1,y1,w1,h1=0,0,imgH,imgW\n",
    "            img2char= pytesseract.image_to_string(frame)\n",
    "            imgbox= pytesseract.image_to_boxes(frame)\n",
    "            for boxes in imgbox.splitlines():\n",
    "                 boxes =boxes.split()\n",
    "                 x,y,w,h=int(boxes[1]),int(boxes[2]),int(boxes[3]),int(boxes[4])\n",
    "                 cv2.rectangle(frame,(x,imgH-y),(w,imgH-h),(0,255,0),3)\n",
    "                 cv2.putText(frame,img2char,(x1+ int(w1/50),y+int(h1/50)),cv2.FONT_HERSHEY_SIMPLEX,0.7,(0,255,255),3)\n",
    "                 cv2.imshow('IAM',frame)\n",
    "            \n",
    "            if cv2.waitKey(200)== ord('q'):\n",
    "                break\n",
    "        else:\n",
    "            break\n",
    "\n",
    "cap.release()\n",
    "cv2.destroyAllWindows()   "
   ]
  },
  {
   "cell_type": "markdown",
   "metadata": {},
   "source": [
    "# text from live stream"
   ]
  },
  {
   "cell_type": "code",
   "execution_count": 30,
   "metadata": {},
   "outputs": [],
   "source": [
    "import cv2\n",
    "import numpy as np\n",
    "import pytesseract\n",
    "pytesseract.pytesseract.tesseract_cmd =\"C://Users//pc//anaconda3//tesseract.exe\"\n",
    "cap=cv2.VideoCapture(0)\n",
    "cntr=0\n",
    "while cap.isOpened():\n",
    "    ret,frame= cap.read()\n",
    "    cntr=cntr+1;\n",
    "    if ((cntr%20)==0):\n",
    "        imgH,imgW,_=frame.shape\n",
    "        x1,y1,w1,h1=0,0,imgH,imgW\n",
    "        img2char= pytesseract.image_to_string(frame)\n",
    "        imgbox= pytesseract.image_to_boxes(frame)\n",
    "        for boxes in imgbox.splitlines():\n",
    "            boxes =boxes.split()\n",
    "            x,y,w,h=int(boxes[1]),int(boxes[2]),int(boxes[3]),int(boxes[4])\n",
    "            cv2.rectangle(frame,(x,imgH-y),(w,imgH-h),(0,255,0),3)\n",
    "        cv2.putText(frame,img2char,(x1+ int(w1/50),y1+int(h1/50)),cv2.FONT_HERSHEY_SIMPLEX,0.7,(0,255,255),3)\n",
    "        font = cv2.FONT_HERSHEY_PLAIN\n",
    "        cv2.imshow(\"detect text from live\",frame)\n",
    "        if cv2.waitKey(1)== ord('q'):\n",
    "            break\n",
    "    \n",
    "cap.release()\n",
    "cv2.destroyAllWindows()   "
   ]
  },
  {
   "cell_type": "code",
   "execution_count": null,
   "metadata": {},
   "outputs": [],
   "source": []
  }
 ],
 "metadata": {
  "kernelspec": {
   "display_name": "Python 3",
   "language": "python",
   "name": "python3"
  },
  "language_info": {
   "codemirror_mode": {
    "name": "ipython",
    "version": 3
   },
   "file_extension": ".py",
   "mimetype": "text/x-python",
   "name": "python",
   "nbconvert_exporter": "python",
   "pygments_lexer": "ipython3",
   "version": "3.8.5"
  }
 },
 "nbformat": 4,
 "nbformat_minor": 4
}
